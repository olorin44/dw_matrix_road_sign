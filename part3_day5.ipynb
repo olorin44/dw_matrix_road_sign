{
  "nbformat": 4,
  "nbformat_minor": 0,
  "metadata": {
    "colab": {
      "name": "part3_day5.ipynb",
      "provenance": [],
      "collapsed_sections": [],
      "mount_file_id": "1FqGoBnSwzNPDHhoiNdaCZb8itxMEBbpq",
      "authorship_tag": "ABX9TyPsx43G0FT8KcxPLNwmJOTD",
      "include_colab_link": true
    },
    "kernelspec": {
      "name": "python3",
      "display_name": "Python 3"
    },
    "accelerator": "GPU"
  },
  "cells": [
    {
      "cell_type": "markdown",
      "metadata": {
        "id": "view-in-github",
        "colab_type": "text"
      },
      "source": [
        "<a href=\"https://colab.research.google.com/github/olorin44/dw_matrix_road_sign/blob/master/part3_day5.ipynb\" target=\"_parent\"><img src=\"https://colab.research.google.com/assets/colab-badge.svg\" alt=\"Open In Colab\"/></a>"
      ]
    },
    {
      "cell_type": "code",
      "metadata": {
        "id": "d3A7OjNvvHHJ",
        "colab_type": "code",
        "colab": {
          "base_uri": "https://localhost:8080/",
          "height": 187
        },
        "outputId": "1773d9c4-99b9-42a8-d868-35f333bab252"
      },
      "source": [
        "!pip install hyperopt"
      ],
      "execution_count": 3,
      "outputs": [
        {
          "output_type": "stream",
          "text": [
            "Requirement already satisfied: hyperopt in /usr/local/lib/python3.6/dist-packages (0.1.2)\n",
            "Requirement already satisfied: future in /usr/local/lib/python3.6/dist-packages (from hyperopt) (0.16.0)\n",
            "Requirement already satisfied: tqdm in /usr/local/lib/python3.6/dist-packages (from hyperopt) (4.38.0)\n",
            "Requirement already satisfied: networkx in /usr/local/lib/python3.6/dist-packages (from hyperopt) (2.4)\n",
            "Requirement already satisfied: six in /usr/local/lib/python3.6/dist-packages (from hyperopt) (1.12.0)\n",
            "Requirement already satisfied: scipy in /usr/local/lib/python3.6/dist-packages (from hyperopt) (1.4.1)\n",
            "Requirement already satisfied: pymongo in /usr/local/lib/python3.6/dist-packages (from hyperopt) (3.10.1)\n",
            "Requirement already satisfied: numpy in /usr/local/lib/python3.6/dist-packages (from hyperopt) (1.18.2)\n",
            "Requirement already satisfied: decorator>=4.3.0 in /usr/local/lib/python3.6/dist-packages (from networkx->hyperopt) (4.4.2)\n"
          ],
          "name": "stdout"
        }
      ]
    },
    {
      "cell_type": "code",
      "metadata": {
        "id": "UiLrrPcxvKXo",
        "colab_type": "code",
        "colab": {
          "base_uri": "https://localhost:8080/",
          "height": 55
        },
        "outputId": "70eba372-161f-4e6b-e8e5-0b01123d02a1"
      },
      "source": [
        "import pandas as pd\n",
        "import numpy as np\n",
        "import tensorflow as tf\n",
        "import os\n",
        "import datetime\n",
        "\n",
        "from tensorflow.keras.models import Sequential\n",
        "from tensorflow.keras.layers import Conv2D, MaxPool2D, Dense, Flatten, Dropout\n",
        "from tensorflow.keras.utils import to_categorical\n",
        "\n",
        "%load_ext tensorboard\n",
        "\n",
        "import matplotlib.pyplot as plt\n",
        "from skimage import color, exposure\n",
        "from sklearn.metrics import accuracy_score\n",
        "\n",
        "from hyperopt import hp, STATUS_OK, tpe, Trials, fmin"
      ],
      "execution_count": 15,
      "outputs": [
        {
          "output_type": "stream",
          "text": [
            "The tensorboard extension is already loaded. To reload it, use:\n",
            "  %reload_ext tensorboard\n"
          ],
          "name": "stdout"
        }
      ]
    },
    {
      "cell_type": "code",
      "metadata": {
        "id": "fkEzOOPgvvJ0",
        "colab_type": "code",
        "colab": {
          "base_uri": "https://localhost:8080/",
          "height": 36
        },
        "outputId": "3fb10e93-a7ea-4ea5-b17e-d440db64bb7f"
      },
      "source": [
        "cd '/content/drive/My Drive/Colab Notebooks/dw_matrix/matrix_three/dw_matrix_road_sign'"
      ],
      "execution_count": 5,
      "outputs": [
        {
          "output_type": "stream",
          "text": [
            "/content/drive/My Drive/Colab Notebooks/dw_matrix/matrix_three/dw_matrix_road_sign\n"
          ],
          "name": "stdout"
        }
      ]
    },
    {
      "cell_type": "code",
      "metadata": {
        "id": "hZPZs1TDvzlN",
        "colab_type": "code",
        "colab": {}
      },
      "source": [
        "train = pd.read_pickle('data/train.p')\n",
        "test = pd.read_pickle('data/test.p')\n",
        "\n",
        "x_train, y_train = train['features'], train['labels']\n",
        "x_test, y_test = test['features'], test['labels']"
      ],
      "execution_count": 0,
      "outputs": []
    },
    {
      "cell_type": "code",
      "metadata": {
        "id": "wrSlDzI0v3KD",
        "colab_type": "code",
        "colab": {}
      },
      "source": [
        "if y_train.ndim == 1: y_train = to_categorical(y_train)\n",
        "if y_test.ndim == 1: y_test = to_categorical(y_test)\n",
        "\n",
        "input_shape = x_train.shape[1:]\n",
        "num_classes = y_train.shape[1]"
      ],
      "execution_count": 0,
      "outputs": []
    },
    {
      "cell_type": "code",
      "metadata": {
        "id": "CYx6Mq7nv9YS",
        "colab_type": "code",
        "colab": {}
      },
      "source": [
        "def train_model(get_model, x_train, y_train, params_fit={}):\n",
        "  model.compile(loss='categorical_crossentropy', optimizer='Adam', metrics=['accuracy'])\n",
        "  logdir = os.path.join(\"logs\", datetime.datetime.now().strftime(\"%Y%m%d-%H%M%S\"))\n",
        "  tensorboard_callback = tf.keras.callbacks.TensorBoard(logdir, histogram_freq=1)\n",
        "\n",
        "  model.fit(\n",
        "      x_train, \n",
        "      y_train,\n",
        "      batch_size=params_fit.get('batch_size', 128),\n",
        "      epochs=params_fit.get('epochs', 5),\n",
        "      verbose=params_fit.get('verbose', 1),\n",
        "      validation_data=params_fit.get('validation_data', (x_train, y_train)),\n",
        "      callbacks= [tensorboard_callback]\n",
        "  )\n",
        "\n",
        "  return model\n",
        "\n",
        "def predict(model_trained, x_test, y_test, scoring=accuracy_score):\n",
        "\n",
        "  y_test_norm = np.argmax(y_test, axis=1)\n",
        "\n",
        "  y_pred_prob = model_trained.predict(x_test)\n",
        "  y_pred = np.argmax(y_pred_prob, axis=1)\n",
        "\n",
        "  return scoring(y_test_norm, y_pred)"
      ],
      "execution_count": 0,
      "outputs": []
    },
    {
      "cell_type": "code",
      "metadata": {
        "id": "JjpgM-dxwXqp",
        "colab_type": "code",
        "colab": {}
      },
      "source": [
        "def get_cnn_v5(input_shape, num_classes):\n",
        "  return Sequential([\n",
        "    Conv2D(filters=32, kernel_size=(3, 3), activation='relu', input_shape=input_shape),\n",
        "    Conv2D(filters=32, kernel_size=(3, 3), activation='relu', padding='same'),\n",
        "    MaxPool2D(),\n",
        "    Dropout(0.3),\n",
        "\n",
        "    Conv2D(filters=64, kernel_size=(3, 3), activation='relu', input_shape=input_shape),\n",
        "    Conv2D(filters=64, kernel_size=(3, 3), activation='relu', padding='same'),\n",
        "    MaxPool2D(),\n",
        "    Dropout(0.3),\n",
        "\n",
        "    Conv2D(filters=64, kernel_size=(3, 3), activation='relu', input_shape=input_shape),\n",
        "    Conv2D(filters=64, kernel_size=(3, 3), activation='relu', padding='same'),\n",
        "    MaxPool2D(),\n",
        "    Dropout(0.3),\n",
        "\n",
        "    Flatten(),\n",
        "\n",
        "    Dense(1024, activation='relu'),\n",
        "    Dropout(0.3),\n",
        "\n",
        "    Dense(1024, activation='relu'),\n",
        "    Dropout(0.3),\n",
        "\n",
        "    Dense(num_classes, activation='softmax'),\n",
        "  ])\n"
      ],
      "execution_count": 0,
      "outputs": []
    },
    {
      "cell_type": "code",
      "metadata": {
        "id": "lUfXN1IDwluA",
        "colab_type": "code",
        "colab": {
          "base_uri": "https://localhost:8080/",
          "height": 225
        },
        "outputId": "13a1e42c-662b-40df-d215-a4451df885cc"
      },
      "source": [
        "model = get_cnn_v5(input_shape, num_classes)\n",
        "model_trained = train_model(model, x_train, y_train)\n",
        "predict(model_trained, x_test, y_test)"
      ],
      "execution_count": 12,
      "outputs": [
        {
          "output_type": "stream",
          "text": [
            "Epoch 1/5\n",
            "272/272 [==============================] - 5s 18ms/step - loss: 2.5995 - accuracy: 0.2959 - val_loss: 1.1815 - val_accuracy: 0.6553\n",
            "Epoch 2/5\n",
            "272/272 [==============================] - 5s 17ms/step - loss: 0.8987 - accuracy: 0.7146 - val_loss: 0.2407 - val_accuracy: 0.9370\n",
            "Epoch 3/5\n",
            "272/272 [==============================] - 4s 16ms/step - loss: 0.3920 - accuracy: 0.8807 - val_loss: 0.1087 - val_accuracy: 0.9684\n",
            "Epoch 4/5\n",
            "272/272 [==============================] - 4s 16ms/step - loss: 0.2630 - accuracy: 0.9195 - val_loss: 0.0589 - val_accuracy: 0.9843\n",
            "Epoch 5/5\n",
            "272/272 [==============================] - 4s 16ms/step - loss: 0.1983 - accuracy: 0.9416 - val_loss: 0.0576 - val_accuracy: 0.9828\n"
          ],
          "name": "stdout"
        },
        {
          "output_type": "execute_result",
          "data": {
            "text/plain": [
              "0.9498866213151927"
            ]
          },
          "metadata": {
            "tags": []
          },
          "execution_count": 12
        }
      ]
    },
    {
      "cell_type": "code",
      "metadata": {
        "id": "6yWNnbmozi0M",
        "colab_type": "code",
        "colab": {}
      },
      "source": [
        "def get_model(params):\n",
        "  return Sequential([\n",
        "    Conv2D(filters=32, kernel_size=(3, 3), activation='relu', input_shape=input_shape),\n",
        "    Conv2D(filters=32, kernel_size=(3, 3), activation='relu', padding='same'),\n",
        "    MaxPool2D(),\n",
        "    Dropout(params['dropout_cnn_block_one']),\n",
        "\n",
        "    Conv2D(filters=64, kernel_size=(3, 3), activation='relu', input_shape=input_shape),\n",
        "    Conv2D(filters=64, kernel_size=(3, 3), activation='relu', padding='same'),\n",
        "    MaxPool2D(),\n",
        "    Dropout(params['dropout_cnn_block_two']),\n",
        "\n",
        "    Conv2D(filters=128, kernel_size=(3, 3), activation='relu', input_shape=input_shape),\n",
        "    Conv2D(filters=128, kernel_size=(3, 3), activation='relu', padding='same'),\n",
        "    MaxPool2D(),\n",
        "    Dropout(params['dropout_cnn_block_three']),\n",
        "\n",
        "    Flatten(),\n",
        "\n",
        "    Dense(1024, activation='relu'),\n",
        "    Dropout(params['dropout_dense_block_one']),\n",
        "\n",
        "    Dense(1024, activation='relu'),\n",
        "    Dropout(params['dropout_dense_block_two']),\n",
        "\n",
        "    Dense(num_classes, activation='softmax'),\n",
        "  ])\n"
      ],
      "execution_count": 0,
      "outputs": []
    },
    {
      "cell_type": "code",
      "metadata": {
        "id": "WL4tTRWxw1-A",
        "colab_type": "code",
        "colab": {}
      },
      "source": [
        "def func_obj(params):\n",
        "  model = get_model(params)\n",
        "  model.compile(loss='categorical_crossentropy', optimizer='Adam', metrics=['accuracy'])\n",
        "\n",
        "  model.fit(\n",
        "      x_train, \n",
        "      y_train,\n",
        "      batch_size=int(params.get('batch_size', 128)),\n",
        "      epochs=5,\n",
        "      verbose=0,\n",
        "  )\n",
        "\n",
        "  score = model.evaluate(x_test, y_test, verbose=0)\n",
        "  accuracy = score[1]\n",
        "  print(params, 'accuracy={}'.format(accuracy))\n",
        "\n",
        "  return {'loss': -accuracy, 'status': STATUS_OK, 'model': model}"
      ],
      "execution_count": 0,
      "outputs": []
    },
    {
      "cell_type": "code",
      "metadata": {
        "id": "HDHc4nv0yQm0",
        "colab_type": "code",
        "colab": {
          "base_uri": "https://localhost:8080/",
          "height": 1000
        },
        "outputId": "7cde82cb-c478-4206-9863-b89bfaa7aee2"
      },
      "source": [
        "space = {\n",
        "    'batch_size': hp.quniform('batch_size', 100, 200, 10),\n",
        "    'dropout_cnn_block_one': hp.uniform('dropout_cnn_block_one', 0.3, 0.5),\n",
        "    'dropout_cnn_block_two': hp.uniform('dropout_cnn_block_two', 0.3, 0.5),\n",
        "    'dropout_cnn_block_three': hp.uniform('dropout_cnn_block_three', 0.3, 0.5),\n",
        "\n",
        "    'dropout_dense_block_one': hp.uniform('dropout_dense_block_one', 0.3, 0.7),\n",
        "    'dropout_dense_block_two': hp.uniform('dropout_dense_block_two', 0.3, 0.7),\n",
        "}\n",
        "\n",
        "best = fmin(\n",
        "    func_obj,\n",
        "    space,\n",
        "    tpe.suggest,\n",
        "    30,\n",
        "    Trials()\n",
        ")"
      ],
      "execution_count": 44,
      "outputs": [
        {
          "output_type": "stream",
          "text": [
            "{'batch_size': 110.0, 'dropout_cnn_block_one': 0.4240827796211221, 'dropout_cnn_block_three': 0.4397020574487186, 'dropout_cnn_block_two': 0.37671291152318775, 'dropout_dense_block_one': 0.4331692863685499, 'dropout_dense_block_two': 0.34350836495747955}\n",
            "accuracy=0.960544228553772\n",
            "{'batch_size': 200.0, 'dropout_cnn_block_one': 0.3394312450760235, 'dropout_cnn_block_three': 0.3713475288629307, 'dropout_cnn_block_two': 0.40342531938609594, 'dropout_dense_block_one': 0.4953562635398995, 'dropout_dense_block_two': 0.5696496513627449}\n",
            "accuracy=0.9671201705932617\n",
            "{'batch_size': 160.0, 'dropout_cnn_block_one': 0.3593182427438963, 'dropout_cnn_block_three': 0.305971447927452, 'dropout_cnn_block_two': 0.35654921307645976, 'dropout_dense_block_one': 0.5802557003510715, 'dropout_dense_block_two': 0.39030681622717656}\n",
            "accuracy=0.9501133561134338\n",
            "{'batch_size': 180.0, 'dropout_cnn_block_one': 0.3750927219097241, 'dropout_cnn_block_three': 0.46876845689007635, 'dropout_cnn_block_two': 0.38295030464723084, 'dropout_dense_block_one': 0.6473002043418294, 'dropout_dense_block_two': 0.5839857203744376}\n",
            "accuracy=0.8791383504867554\n",
            "{'batch_size': 160.0, 'dropout_cnn_block_one': 0.449516654383203, 'dropout_cnn_block_three': 0.3349990824358089, 'dropout_cnn_block_two': 0.4860967287193109, 'dropout_dense_block_one': 0.388493966120919, 'dropout_dense_block_two': 0.3623534651241895}\n",
            "accuracy=0.9546485543251038\n",
            "{'batch_size': 120.0, 'dropout_cnn_block_one': 0.3499572564382508, 'dropout_cnn_block_three': 0.32855391793891786, 'dropout_cnn_block_two': 0.46679255829565625, 'dropout_dense_block_one': 0.6454033994101904, 'dropout_dense_block_two': 0.5029678300943821}\n",
            "accuracy=0.9374149441719055\n",
            "{'batch_size': 130.0, 'dropout_cnn_block_one': 0.3131110349317077, 'dropout_cnn_block_three': 0.3780554145000787, 'dropout_cnn_block_two': 0.3312852240016811, 'dropout_dense_block_one': 0.3979435002011529, 'dropout_dense_block_two': 0.4705956214386321}\n",
            "accuracy=0.958730161190033\n",
            "{'batch_size': 100.0, 'dropout_cnn_block_one': 0.34166455140923613, 'dropout_cnn_block_three': 0.4293465550747122, 'dropout_cnn_block_two': 0.3485275963329354, 'dropout_dense_block_one': 0.6368367377619465, 'dropout_dense_block_two': 0.43055204105742045}\n",
            "accuracy=0.9451247453689575\n",
            "{'batch_size': 110.0, 'dropout_cnn_block_one': 0.3739933860051316, 'dropout_cnn_block_three': 0.31516808315098604, 'dropout_cnn_block_two': 0.3461439578289667, 'dropout_dense_block_one': 0.4985752503718016, 'dropout_dense_block_two': 0.4237168023385035}\n",
            "accuracy=0.9664399027824402\n",
            "{'batch_size': 180.0, 'dropout_cnn_block_one': 0.36721321041377397, 'dropout_cnn_block_three': 0.3266433941463696, 'dropout_cnn_block_two': 0.30497594958292606, 'dropout_dense_block_one': 0.46061265352296066, 'dropout_dense_block_two': 0.44527388899972503}\n",
            "accuracy=0.9625850319862366\n",
            "{'batch_size': 130.0, 'dropout_cnn_block_one': 0.3906828928449656, 'dropout_cnn_block_three': 0.47192856850136355, 'dropout_cnn_block_two': 0.4210895882110531, 'dropout_dense_block_one': 0.5535951806063375, 'dropout_dense_block_two': 0.5233751030133513}\n",
            "accuracy=0.9167800545692444\n",
            "{'batch_size': 120.0, 'dropout_cnn_block_one': 0.3668697855655668, 'dropout_cnn_block_three': 0.4640240602608771, 'dropout_cnn_block_two': 0.4165719151321997, 'dropout_dense_block_one': 0.663365177542831, 'dropout_dense_block_two': 0.38628972843942555}\n",
            "accuracy=0.96417236328125\n",
            "{'batch_size': 170.0, 'dropout_cnn_block_one': 0.4395602852779038, 'dropout_cnn_block_three': 0.4092010357119565, 'dropout_cnn_block_two': 0.3600757264961724, 'dropout_dense_block_one': 0.4935659362239957, 'dropout_dense_block_two': 0.4349893857401513}\n",
            "accuracy=0.9732426404953003\n",
            "{'batch_size': 130.0, 'dropout_cnn_block_one': 0.37514486812128933, 'dropout_cnn_block_three': 0.4896096880161266, 'dropout_cnn_block_two': 0.4162570049879155, 'dropout_dense_block_one': 0.3874002554697691, 'dropout_dense_block_two': 0.6859633525353069}\n",
            "accuracy=0.9598639607429504\n",
            "{'batch_size': 160.0, 'dropout_cnn_block_one': 0.3250646153234297, 'dropout_cnn_block_three': 0.47342928599123324, 'dropout_cnn_block_two': 0.4115207342701557, 'dropout_dense_block_one': 0.5925224093359638, 'dropout_dense_block_two': 0.3908180120993852}\n",
            "accuracy=0.960544228553772\n",
            "{'batch_size': 170.0, 'dropout_cnn_block_one': 0.4995774539210476, 'dropout_cnn_block_three': 0.4166853032710322, 'dropout_cnn_block_two': 0.3475549765957792, 'dropout_dense_block_one': 0.48468956076916125, 'dropout_dense_block_two': 0.331811893212995}\n",
            "accuracy=0.9222221970558167\n",
            "{'batch_size': 180.0, 'dropout_cnn_block_one': 0.41450160193569635, 'dropout_cnn_block_three': 0.30415595316724914, 'dropout_cnn_block_two': 0.4981111103985958, 'dropout_dense_block_one': 0.5548077686432267, 'dropout_dense_block_two': 0.4927083807512509}\n",
            "accuracy=0.9410430788993835\n",
            "{'batch_size': 170.0, 'dropout_cnn_block_one': 0.3393507685808236, 'dropout_cnn_block_three': 0.38347151982135663, 'dropout_cnn_block_two': 0.4032753539642711, 'dropout_dense_block_one': 0.5057522911961895, 'dropout_dense_block_two': 0.594811635843512}\n",
            "accuracy=0.9503401517868042\n",
            "{'batch_size': 130.0, 'dropout_cnn_block_one': 0.3305113066901036, 'dropout_cnn_block_three': 0.4744081412469755, 'dropout_cnn_block_two': 0.39508422992789727, 'dropout_dense_block_one': 0.6239048494862007, 'dropout_dense_block_two': 0.45923207158932805}\n",
            "accuracy=0.9517006874084473\n",
            "{'batch_size': 150.0, 'dropout_cnn_block_one': 0.33963672893782704, 'dropout_cnn_block_three': 0.37756804691942863, 'dropout_cnn_block_two': 0.45186793001994907, 'dropout_dense_block_one': 0.6184013935377008, 'dropout_dense_block_two': 0.5058502202454003}\n",
            "accuracy=0.921088457107544\n",
            "{'batch_size': 200.0, 'dropout_cnn_block_one': 0.4704725707636437, 'dropout_cnn_block_three': 0.3524760059907157, 'dropout_cnn_block_two': 0.3004729872881142, 'dropout_dense_block_one': 0.3325004015132119, 'dropout_dense_block_two': 0.5538621902240067}\n",
            "accuracy=0.9671201705932617\n",
            "{'batch_size': 190.0, 'dropout_cnn_block_one': 0.48265465460046303, 'dropout_cnn_block_three': 0.35341197773961075, 'dropout_cnn_block_two': 0.30098675910869555, 'dropout_dense_block_one': 0.3029034212435607, 'dropout_dense_block_two': 0.6595705303050559}\n",
            "accuracy=0.9401360750198364\n",
            "{'batch_size': 200.0, 'dropout_cnn_block_one': 0.44250380640422665, 'dropout_cnn_block_three': 0.40102362732650293, 'dropout_cnn_block_two': 0.4375775328563194, 'dropout_dense_block_one': 0.5327756637113911, 'dropout_dense_block_two': 0.6304326523746516}\n",
            "accuracy=0.7514739036560059\n",
            "{'batch_size': 190.0, 'dropout_cnn_block_one': 0.40210003687571966, 'dropout_cnn_block_three': 0.40086420775816367, 'dropout_cnn_block_two': 0.32393584299712275, 'dropout_dense_block_one': 0.4395767065939199, 'dropout_dense_block_two': 0.5451366225421989}\n",
            "accuracy=0.8970521688461304\n",
            "{'batch_size': 190.0, 'dropout_cnn_block_one': 0.44117342683443195, 'dropout_cnn_block_three': 0.363878710553476, 'dropout_cnn_block_two': 0.3671546494599772, 'dropout_dense_block_one': 0.6944392133340006, 'dropout_dense_block_two': 0.6084512558944912}\n",
            "accuracy=0.9102040529251099\n",
            "{'batch_size': 150.0, 'dropout_cnn_block_one': 0.4626142061608321, 'dropout_cnn_block_three': 0.4443686628195437, 'dropout_cnn_block_two': 0.3914701905111066, 'dropout_dense_block_one': 0.5308986738319417, 'dropout_dense_block_two': 0.5466355757274992}\n",
            "accuracy=0.8698412775993347\n",
            "{'batch_size': 200.0, 'dropout_cnn_block_one': 0.4246958482144994, 'dropout_cnn_block_three': 0.42039383763952265, 'dropout_cnn_block_two': 0.4364522471862632, 'dropout_dense_block_one': 0.35636962156583274, 'dropout_dense_block_two': 0.649359634716225}\n",
            "accuracy=0.9453514814376831\n",
            "{'batch_size': 170.0, 'dropout_cnn_block_one': 0.3052693256508855, 'dropout_cnn_block_three': 0.3934795122820159, 'dropout_cnn_block_two': 0.3243700269238912, 'dropout_dense_block_one': 0.4741566598305985, 'dropout_dense_block_two': 0.5676416506323293}\n",
            "accuracy=0.9287981986999512\n",
            "{'batch_size': 140.0, 'dropout_cnn_block_one': 0.39514165508676397, 'dropout_cnn_block_three': 0.4379575467846912, 'dropout_cnn_block_two': 0.37369865272308134, 'dropout_dense_block_one': 0.4312229634620645, 'dropout_dense_block_two': 0.31315197629080727}\n",
            "accuracy=0.9768707752227783\n",
            "{'batch_size': 140.0, 'dropout_cnn_block_one': 0.4206428869585716, 'dropout_cnn_block_three': 0.4504227899290442, 'dropout_cnn_block_two': 0.37233812372977965, 'dropout_dense_block_one': 0.4203926651499447, 'dropout_dense_block_two': 0.30040294096513964}\n",
            "accuracy=0.9544217586517334\n",
            "100%|██████████| 30/30 [07:01<00:00, 14.04s/it, best loss: -0.9768707752227783]\n"
          ],
          "name": "stdout"
        }
      ]
    },
    {
      "cell_type": "code",
      "metadata": {
        "id": "3v81_XSe1v4_",
        "colab_type": "code",
        "colab": {}
      },
      "source": [
        ""
      ],
      "execution_count": 0,
      "outputs": []
    }
  ]
}